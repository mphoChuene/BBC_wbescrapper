{
 "cells": [
  {
   "cell_type": "markdown",
   "id": "f755cd2c",
   "metadata": {},
   "source": [
    "# installation of beatifulsoup library "
   ]
  },
  {
   "cell_type": "code",
   "execution_count": 1,
   "id": "7c170832",
   "metadata": {},
   "outputs": [
    {
     "name": "stdout",
     "output_type": "stream",
     "text": [
      "Requirement already satisfied: requests in /Users/mphochuene/anaconda3/lib/python3.11/site-packages (2.31.0)\n",
      "Requirement already satisfied: beautifulsoup4 in /Users/mphochuene/anaconda3/lib/python3.11/site-packages (4.12.2)\n",
      "Requirement already satisfied: pandas in /Users/mphochuene/anaconda3/lib/python3.11/site-packages (2.0.3)\n",
      "Requirement already satisfied: charset-normalizer<4,>=2 in /Users/mphochuene/anaconda3/lib/python3.11/site-packages (from requests) (2.0.4)\n",
      "Requirement already satisfied: idna<4,>=2.5 in /Users/mphochuene/anaconda3/lib/python3.11/site-packages (from requests) (3.4)\n",
      "Requirement already satisfied: urllib3<3,>=1.21.1 in /Users/mphochuene/anaconda3/lib/python3.11/site-packages (from requests) (1.26.16)\n",
      "Requirement already satisfied: certifi>=2017.4.17 in /Users/mphochuene/anaconda3/lib/python3.11/site-packages (from requests) (2023.7.22)\n",
      "Requirement already satisfied: soupsieve>1.2 in /Users/mphochuene/anaconda3/lib/python3.11/site-packages (from beautifulsoup4) (2.4)\n",
      "Requirement already satisfied: python-dateutil>=2.8.2 in /Users/mphochuene/anaconda3/lib/python3.11/site-packages (from pandas) (2.8.2)\n",
      "Requirement already satisfied: pytz>=2020.1 in /Users/mphochuene/anaconda3/lib/python3.11/site-packages (from pandas) (2023.3.post1)\n",
      "Requirement already satisfied: tzdata>=2022.1 in /Users/mphochuene/anaconda3/lib/python3.11/site-packages (from pandas) (2023.3)\n",
      "Requirement already satisfied: numpy>=1.21.0 in /Users/mphochuene/anaconda3/lib/python3.11/site-packages (from pandas) (1.24.3)\n",
      "Requirement already satisfied: six>=1.5 in /Users/mphochuene/anaconda3/lib/python3.11/site-packages (from python-dateutil>=2.8.2->pandas) (1.16.0)\n",
      "Note: you may need to restart the kernel to use updated packages.\n"
     ]
    }
   ],
   "source": [
    "pip install requests beautifulsoup4 pandas"
   ]
  },
  {
   "cell_type": "markdown",
   "id": "12e031d8",
   "metadata": {},
   "source": [
    "## webscrapper  "
   ]
  },
  {
   "cell_type": "code",
   "execution_count": 4,
   "id": "377a1341",
   "metadata": {},
   "outputs": [
    {
     "name": "stdout",
     "output_type": "stream",
     "text": [
      "[]\n",
      "Scraping complete. The data has been saved to bbc_news_articles.csv.\n"
     ]
    }
   ],
   "source": [
    "import requests\n",
    "from bs4 import BeautifulSoup\n",
    "import pandas as pd\n",
    "\n",
    "# Define the URL of the website to scrape\n",
    "url = 'https://www.bbc.com/news'\n",
    "\n",
    "# Send a GET request to the website\n",
    "response = requests.get(url)\n",
    "response.raise_for_status()  # Check if the request was successful\n",
    "\n",
    "# Parse the HTML content of the webpage\n",
    "soup = BeautifulSoup(response.content, 'html.parser')\n",
    "\n",
    "# Find all articles\n",
    "articles = soup.find_all('a', class_='gs-c-promo-heading')\n",
    "\n",
    "# Extract titles and links\n",
    "data = []\n",
    "for article in articles:\n",
    "    title = article.get_text()\n",
    "    link = article['href']\n",
    "    if not link.startswith('http'):\n",
    "        link = 'https://www.bbc.com' + link\n",
    "    data.append({'title': title, 'link': link})\n",
    "\n",
    "# Print data to check\n",
    "print(data)\n",
    "\n",
    "# # Convert the data into a pandas DataFrame\n",
    "# df = pd.DataFrame(data)\n",
    "\n",
    "# # Save the DataFrame to a CSV file\n",
    "# df.to_csv('bbc_news_articles.csv', index=False)\n",
    "\n",
    "print('Scraping complete. The data has been saved to bbc_news_articles.csv.')\n"
   ]
  }
 ],
 "metadata": {
  "kernelspec": {
   "display_name": "Python 3 (ipykernel)",
   "language": "python",
   "name": "python3"
  },
  "language_info": {
   "codemirror_mode": {
    "name": "ipython",
    "version": 3
   },
   "file_extension": ".py",
   "mimetype": "text/x-python",
   "name": "python",
   "nbconvert_exporter": "python",
   "pygments_lexer": "ipython3",
   "version": "3.11.5"
  }
 },
 "nbformat": 4,
 "nbformat_minor": 5
}
